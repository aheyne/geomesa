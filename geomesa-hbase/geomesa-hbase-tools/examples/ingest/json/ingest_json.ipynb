{
 "cells": [
  {
   "cell_type": "code",
   "execution_count": null,
   "metadata": {
    "collapsed": true
   },
   "outputs": [],
   "source": [
    "!{\"/opt/geomesa/bin/geomesa-hbase ingest -c catalog -s example-json -C example-json /opt/geomesa/examples/ingest/json/example.json\"}"
   ]
  },
  {
   "cell_type": "code",
   "execution_count": null,
   "metadata": {},
   "outputs": [],
   "source": [
    "!{\"/opt/geomesa/bin/geomesa-hbase ingest -c catalog2 -s example-json -C example_multi_line.conf /opt/geomesa/examples/ingest/json/example_multi_line.json\"}"
   ]
  }
 ],
 "metadata": {
  "kernelspec": {
   "display_name": "Python 2",
   "language": "python",
   "name": "python2"
  },
  "language_info": {
   "codemirror_mode": {
    "name": "ipython",
    "version": 2
   },
   "file_extension": ".py",
   "mimetype": "text/x-python",
   "name": "python",
   "nbconvert_exporter": "python",
   "pygments_lexer": "ipython2",
   "version": "2.7.6"
  }
 },
 "nbformat": 4,
 "nbformat_minor": 0
}
