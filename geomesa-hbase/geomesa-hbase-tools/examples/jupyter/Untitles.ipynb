{
 "cells": [
  {
   "cell_type": "code",
   "execution_count": null,
   "metadata": {},
   "outputs": [],
   "source": [
    "import geomesa_pyspark\n",
    "conf = geomesa_pyspark.configure(\n",
    "    jars=['/opt/geomesa/dist/spark/geomesa-hbase-spark-runtime_2.11-2.0.0-SNAPSHOT.jar'],\n",
    "    packages=['geomesa_pyspark','pytz'],\n",
    "    spark_home='/usr/lib/spark/'). \\\n",
    "    setAppName('MyTestApp')\n",
    "\n",
    "conf.get('spark.master')\n",
    "# u'yarn'\n",
    "\n",
    "from pyspark.sql import SparkSession\n",
    "\n",
    "spark = ( SparkSession\n",
    "          .builder\n",
    "          .config(conf=conf)\n",
    "          .enableHiveSupport()\n",
    "          .getOrCreate()\n",
    "          )"
   ]
  },
  {
   "cell_type": "code",
   "execution_count": null,
   "metadata": {},
   "outputs": [],
   "source": [
    "params = {\n",
    "    \"hbase.catalog\": \"myInstance\",\n",
    "    \"accumulo.zookeepers\": \"zoo1,zoo2,zoo3\",\n",
    "    \"accumulo.user\": \"user\",\n",
    "    \"accumulo.password\": \"password\",\n",
    "    \"accumulo.catalog\": \"myCatalog\"\n",
    "}\n",
    "feature = \"mySchema\"\n",
    "df = ( spark\n",
    "       .read\n",
    "       .format(\"geomesa\")\n",
    "       .options(**params)\n",
    "       .option(\"geomesa.feature\", feature)\n",
    "       .load()\n",
    "       )\n"
   ]
  }
 ],
 "metadata": {},
 "nbformat": 4,
 "nbformat_minor": 0
}
