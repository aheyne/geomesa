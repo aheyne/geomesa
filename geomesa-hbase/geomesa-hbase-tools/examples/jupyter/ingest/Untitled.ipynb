{
 "cells": [
  {
   "cell_type": "markdown",
   "metadata": {},
   "source": [
    "# Example GeoMesa Query"
   ]
  },
  {
   "cell_type": "code",
   "execution_count": null,
   "metadata": {
    "scrolled": true
   },
   "outputs": [],
   "source": [
    "from pyspark.sql import SparkSession\n",
    "import geomesa_pyspark\n",
    "\n",
    "# Resource JARs for PySpark\n",
    "jars=['/opt/geomesa-hbase_2.11-2.0.0-SNAPSHOT/dist/spark/geomesa-hbase-spark-runtime_2.11-2.0.0-SNAPSHOT.jar',\n",
    "      '/usr/share/aws/emr/emrfs/lib/emrfs-hadoop-assembly-2.20.0.jar']\n",
    "   \n",
    "# Spark Configuration Parameters\n",
    "conf = geomesa_pyspark.configure(\n",
    "    jars=jars,\n",
    "    packages=['geomesa_pyspark','pytz'],\n",
    "    spark_home='/usr/lib/spark/').\\\n",
    "    setAppName('MyTestApp') \n",
    "conf.set('spark.jars', ','.join(jars))\n",
    "conf.setAll([\n",
    "    ('spark.executor.memory', '1g'), \n",
    "    ('spark.executor.cores', '2'), \n",
    "    ('spark.worker.instances', '2')])\n",
    "\n",
    "# Initialize Spark Session\n",
    "spark = ( SparkSession\n",
    "    .builder\n",
    "    .config(conf=conf)\n",
    "    .enableHiveSupport()\n",
    "    .getOrCreate()\n",
    ")\n",
    "\n",
    "# GeoMesa Database connection parameters\n",
    "params = {\n",
    "    \"hbase.catalog\": \"catalog\"\n",
    "}\n",
    "feature = \"example-csv\"\n",
    "\n",
    "# Retrieve Dataframe \n",
    "df = ( spark\n",
    "    .read\n",
    "    .format(\"geomesa\")\n",
    "    .options(**params)\n",
    "    .option(\"geomesa.feature\", feature)\n",
    "    .load()\n",
    ")\n",
    "df.createOrReplaceTempView(\"data\")\n",
    "df.printSchema()"
   ]
  },
  {
   "cell_type": "code",
   "execution_count": null,
   "metadata": {
    "scrolled": true
   },
   "outputs": [],
   "source": [
    "spark.sql(\"\"\"\n",
    "select * from data\n",
    "\"\"\").show()"
   ]
  },
  {
   "cell_type": "code",
   "execution_count": null,
   "metadata": {},
   "outputs": [],
   "source": [
    "spark.sql(\"\"\"\n",
    "select * from data where name = 'Harry'\n",
    "\"\"\").show()"
   ]
  }
 ],
 "metadata": {
  "kernelspec": {
   "display_name": "Python 3",
   "language": "python",
   "name": "python3"
  },
  "language_info": {
   "codemirror_mode": {
    "name": "ipython",
    "version": 3
   },
   "file_extension": ".py",
   "mimetype": "text/x-python",
   "name": "python",
   "nbconvert_exporter": "python",
   "pygments_lexer": "ipython3",
   "version": "3.6.2"
  }
 },
 "nbformat": 4,
 "nbformat_minor": 2
}
