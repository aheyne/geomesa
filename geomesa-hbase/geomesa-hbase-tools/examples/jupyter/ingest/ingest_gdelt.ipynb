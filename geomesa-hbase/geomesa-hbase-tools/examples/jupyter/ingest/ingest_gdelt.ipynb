{
 "cells": [
  {
   "cell_type": "markdown",
   "metadata": {},
   "source": [
    "# GDELT Ingest Example\n",
    "\n",
    "This notebook demonstrates how to ingest GDELT data directly from S3. GDELT is provided for "
   ]
  },
  {
   "cell_type": "code",
   "execution_count": null,
   "metadata": {
    "collapsed": true
   },
   "outputs": [],
   "source": [
    "import pandas as pd\n",
    "\n",
    "startDate = pd.datetime(2017, 1, 1)\n",
    "endDate = pd.datetime(2017, 1, 31)\n",
    "\n",
    "dates = pd.date_range(startDate, endDate)\n",
    "fileList = list(map(lambda x: \"s3://gdelt-open-data/events/\" + x.strftime(\"%Y%m%d\") + \".export.csv\", dates))\n",
    "ingestFiles = ' '.join(fileList)"
   ]
  },
  {
   "cell_type": "code",
   "execution_count": null,
   "metadata": {},
   "outputs": [],
   "source": [
    "!/opt/geomesa/bin/geomesa-hbase ingest -c catalog -s gdelt -C gdelt $ingestFiles"
   ]
  }
 ],
 "metadata": {
  "kernelspec": {
   "display_name": "Python 2",
   "language": "python",
   "name": "python2"
  },
  "language_info": {
   "codemirror_mode": {
    "name": "ipython",
    "version": 2
   },
   "file_extension": ".py",
   "mimetype": "text/x-python",
   "name": "python",
   "nbconvert_exporter": "python",
   "pygments_lexer": "ipython2",
   "version": "2.7.6"
  }
 },
 "nbformat": 4,
 "nbformat_minor": 0
}
